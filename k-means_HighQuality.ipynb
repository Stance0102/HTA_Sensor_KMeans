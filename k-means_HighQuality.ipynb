{
 "cells": [
  {
   "cell_type": "code",
   "execution_count": 11,
   "id": "107e48c8-3401-45f3-9ea0-e1e1129ba749",
   "metadata": {},
   "outputs": [],
   "source": [
    "from tkinter import font\n",
    "import pandas as pd\n",
    "import numpy as np\n",
    "import matplotlib.pyplot as plt\n",
    "import seaborn as sns\n",
    "from sklearn import cluster\n",
    "from sklearn.cluster import KMeans\n",
    "from sklearn.metrics import silhouette_score\n",
    "from scipy import stats\n",
    "from plotly import tools \n",
    "import plotly.graph_objs as go\n",
    "import plotly.offline as pof"
   ]
  },
  {
   "cell_type": "code",
   "execution_count": 2,
   "id": "e9eb8ff4-b368-472b-9f9f-7ccc49ac0d51",
   "metadata": {},
   "outputs": [
    {
     "name": "stdout",
     "output_type": "stream",
     "text": [
      "        channel_0\n",
      "0             -12\n",
      "1              36\n",
      "2              51\n",
      "3             -49\n",
      "4             -93\n",
      "...           ...\n",
      "500875         39\n",
      "500876        -24\n",
      "500877         74\n",
      "500878        212\n",
      "500879        115\n",
      "\n",
      "[500880 rows x 1 columns]\n"
     ]
    }
   ],
   "source": [
    "df = pd.read_csv(\"csv/100Hz_normal_2022_03_11_14_34_38.csv\")\n",
    "print(df)"
   ]
  },
  {
   "cell_type": "code",
   "execution_count": 3,
   "id": "5944c58c-590e-4a61-84d0-89b76c7e0b10",
   "metadata": {},
   "outputs": [],
   "source": [
    "# df.drop([\"sequence\"], axis = 1, inplace = True)"
   ]
  },
  {
   "cell_type": "code",
   "execution_count": 4,
   "id": "1ef45cd4-85e2-4fe9-bd6b-173653235bcc",
   "metadata": {},
   "outputs": [
    {
     "name": "stdout",
     "output_type": "stream",
     "text": [
      "500880\n"
     ]
    }
   ],
   "source": [
    "# print(len(data.values.T[0]))\n",
    "col_count = len(df)\n",
    "# print(col_count)\n",
    "\n",
    "col_countList = []\n",
    "for i in range(col_count):\n",
    "    col_countList.append(i)\n",
    "\n",
    "print(len(col_countList))"
   ]
  },
  {
   "cell_type": "code",
   "execution_count": 5,
   "id": "89fdf81d-6d94-402e-a8f4-37c4b56ab9b4",
   "metadata": {},
   "outputs": [
    {
     "name": "stdout",
     "output_type": "stream",
     "text": [
      "\f",
      "\n",
      "[15065484731862.594, 9119418161277.797, 4567372508588.277, 3189477764488.735, 1998034725276.462, 1384035185250.811, 962989469951.2891, 770959945600.8962, 613830215425.6416]\n"
     ]
    },
    {
     "data": {
      "image/png": "[encoded data removed]",
      "text/plain": [
       "<Figure size 576x252 with 1 Axes>"
      ]
     },
     "metadata": {
      "needs_background": "light"
     },
     "output_type": "display_data"
    }
   ],
   "source": [
    "# 測試 K = 1~9，選擇迅速下降轉為平緩的點\n",
    "kmeans_list = [KMeans(n_clusters=k).fit(df)\n",
    "               for k in range(1, 10)]\n",
    "inertias = [model.inertia_ for model in kmeans_list]\n",
    "\n",
    "print(\"\\f\")\n",
    "print(inertias)\n",
    "\n",
    "plt.figure(figsize=(8, 3.5))\n",
    "plt.plot(range(1, 10), inertias, \"bo-\")\n",
    "plt.xlabel(\"$K$\", fontsize=14)\n",
    "plt.ylabel(\"Inertia\", fontsize=14)\n",
    "plt.axis([1, 9, 0, 17000000000000])\n",
    "plt.show()"
   ]
  },
  {
   "cell_type": "code",
   "execution_count": 6,
   "id": "7a040131-61e3-4324-8969-90438d27433f",
   "metadata": {},
   "outputs": [
    {
     "name": "stdout",
     "output_type": "stream",
     "text": [
      "4567362030368.369\n",
      "[[   -42.18015144]\n",
      " [-13615.4858347 ]\n",
      " [ 11652.42257419]]\n",
      "[0 0 0 ... 0 0 0]\n"
     ]
    }
   ],
   "source": [
    "# 分幾群\n",
    "k = 3\n",
    "\n",
    "# 單跑一次，並評估平均值，且預測\n",
    "kmeansModel = KMeans(n_clusters=k)\n",
    "clusters_pred = kmeansModel.fit_predict(df)\n",
    "\n",
    "# 每個點到其他叢集的質心的距離之和\n",
    "print(kmeansModel.inertia_)\n",
    "\n",
    "# 特徵的中心點\n",
    "print(kmeansModel.cluster_centers_)\n",
    "\n",
    "y_means = kmeansModel.predict(df)\n",
    "\n",
    "print(y_means)"
   ]
  },
  {
   "cell_type": "code",
   "execution_count": null,
   "id": "cf367d11-4f3c-46e0-a743-400379a70667",
   "metadata": {},
   "outputs": [],
   "source": []
  }
 ],
 "metadata": {
  "kernelspec": {
   "display_name": "Python 3 (ipykernel)",
   "language": "python",
   "name": "python3"
  },
  "language_info": {
   "codemirror_mode": {
    "name": "ipython",
    "version": 3
   },
   "file_extension": ".py",
   "mimetype": "text/x-python",
   "name": "python",
   "nbconvert_exporter": "python",
   "pygments_lexer": "ipython3",
   "version": "3.8.2"
  }
 },
 "nbformat": 4,
 "nbformat_minor": 5
}
